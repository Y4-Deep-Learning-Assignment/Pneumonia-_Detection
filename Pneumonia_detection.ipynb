{
  "cells": [
    {
      "cell_type": "markdown",
      "metadata": {
        "id": "view-in-github",
        "colab_type": "text"
      },
      "source": [
        "<a href=\"https://colab.research.google.com/github/Y4-Deep-Learning-Assignment/Pneumonia-_Detection/blob/Densenet-121/Pneumonia_detection.ipynb\" target=\"_parent\"><img src=\"https://colab.research.google.com/assets/colab-badge.svg\" alt=\"Open In Colab\"/></a>"
      ]
    },
    {
      "cell_type": "markdown",
      "metadata": {
        "id": "_97KNH91Aviy"
      },
      "source": [
        "# =========================\n",
        "# DenseNet121 — Chest X-ray Pneumonia (PyTorch)\n",
        "# Metrics: Accuracy, Precision, Recall, F1, Confusion Matrix, ROC-AUC\n",
        "# Curves: Training vs Validation Loss/Accuracy\n",
        "# ========================="
      ]
    },
    {
      "cell_type": "code",
      "execution_count": 1,
      "metadata": {
        "id": "Flxp6dLAyA8t"
      },
      "outputs": [],
      "source": [
        "# Core\n",
        "import os, copy, time, math, random, warnings\n",
        "warnings.filterwarnings('ignore')"
      ]
    },
    {
      "cell_type": "code",
      "execution_count": 2,
      "metadata": {
        "id": "RZVe-O4yA3ZK"
      },
      "outputs": [],
      "source": [
        "# PyTorch\n",
        "import torch\n",
        "import torch.nn as nn\n",
        "import torch.optim as optim\n",
        "from torch.utils.data import DataLoader\n",
        "from torchvision import datasets, transforms, models"
      ]
    },
    {
      "cell_type": "code",
      "execution_count": 3,
      "metadata": {
        "id": "ZT-qX3f3A736"
      },
      "outputs": [],
      "source": [
        "# Data / Viz\n",
        "import numpy as np\n",
        "import pandas as pd\n",
        "from PIL import Image\n",
        "import matplotlib.pyplot as plt"
      ]
    },
    {
      "cell_type": "markdown",
      "metadata": {
        "id": "UHsi-8pkAtvb"
      },
      "source": []
    },
    {
      "cell_type": "code",
      "execution_count": 4,
      "metadata": {
        "id": "eXPE-ImlA-t6"
      },
      "outputs": [],
      "source": [
        "# Metrics\n",
        "from sklearn.metrics import (\n",
        "    accuracy_score, precision_score, recall_score, f1_score,\n",
        "    confusion_matrix, roc_auc_score, roc_curve\n",
        ")"
      ]
    },
    {
      "cell_type": "code",
      "execution_count": 5,
      "metadata": {
        "colab": {
          "base_uri": "https://localhost:8080/"
        },
        "id": "ataet77NA_oy",
        "outputId": "f22715b9-702f-4fc0-ac1d-edc5d50cb659"
      },
      "outputs": [
        {
          "output_type": "stream",
          "name": "stdout",
          "text": [
            "Device: cpu\n"
          ]
        }
      ],
      "source": [
        "# ============== Config ==============\n",
        "SEED = 42\n",
        "random.seed(SEED); np.random.seed(SEED); torch.manual_seed(SEED); torch.cuda.manual_seed_all(SEED)\n",
        "\n",
        "DEVICE = torch.device(\"cuda\" if torch.cuda.is_available() else \"cpu\")\n",
        "print(\"Device:\", DEVICE)\n"
      ]
    },
    {
      "cell_type": "code",
      "execution_count": 6,
      "metadata": {
        "id": "e1Meb1D5BDgL"
      },
      "outputs": [],
      "source": [
        "# >>>>>>> CHANGE THIS TO YOUR DATA ROOT (contains train/ val/ test/) <<<<<<<\n",
        "DATA_DIR = '/content/drive/MyDrive/chest_xray'  # or '/path/to/chest_xray'\n",
        "TRAIN_DIR = os.path.join(DATA_DIR, 'train')\n",
        "VAL_DIR   = os.path.join(DATA_DIR, 'val')\n",
        "TEST_DIR  = os.path.join(DATA_DIR, 'test')\n",
        "\n",
        "BATCH_SIZE = 32\n",
        "NUM_WORKERS = 2\n",
        "EPOCHS = 20\n",
        "PATIENCE = 5\n",
        "LR = 1e-4\n",
        "CHECKPOINT_PATH = 'densenet121_pneumonia_best.pth'"
      ]
    },
    {
      "cell_type": "code",
      "execution_count": 7,
      "metadata": {
        "colab": {
          "base_uri": "https://localhost:8080/"
        },
        "id": "0u9WLYswBHaj",
        "outputId": "61999572-69f7-4d0e-d6d4-328b6fed6a73"
      },
      "outputs": [
        {
          "output_type": "stream",
          "name": "stdout",
          "text": [
            "Classes: ['NORMAL', 'PNEUMONIA']\n"
          ]
        }
      ],
      "source": [
        "# ============== Transforms & Data ==============\n",
        "train_tfms = transforms.Compose([\n",
        "    transforms.RandomResizedCrop(224, scale=(0.85, 1.0)),\n",
        "    transforms.RandomHorizontalFlip(),\n",
        "    transforms.RandomRotation(10),\n",
        "    transforms.ColorJitter(brightness=0.05, contrast=0.05),\n",
        "    transforms.ToTensor(),\n",
        "    transforms.Normalize([0.485, 0.456, 0.406],[0.229, 0.224, 0.225]),\n",
        "])\n",
        "\n",
        "testval_tfms = transforms.Compose([\n",
        "    transforms.Resize(256),\n",
        "    transforms.CenterCrop(224),\n",
        "    transforms.ToTensor(),\n",
        "    transforms.Normalize([0.485, 0.456, 0.406],[0.229, 0.224, 0.225]),\n",
        "])\n",
        "\n",
        "train_ds = datasets.ImageFolder(TRAIN_DIR, transform=train_tfms)\n",
        "val_ds   = datasets.ImageFolder(VAL_DIR,   transform=testval_tfms)\n",
        "test_ds  = datasets.ImageFolder(TEST_DIR,  transform=testval_tfms)\n",
        "\n",
        "train_loader = DataLoader(train_ds, batch_size=BATCH_SIZE, shuffle=True,\n",
        "                          num_workers=NUM_WORKERS, pin_memory=True)\n",
        "val_loader   = DataLoader(val_ds,   batch_size=BATCH_SIZE, shuffle=False,\n",
        "                          num_workers=NUM_WORKERS, pin_memory=True)\n",
        "test_loader  = DataLoader(test_ds,  batch_size=BATCH_SIZE, shuffle=False,\n",
        "                          num_workers=NUM_WORKERS, pin_memory=True)\n",
        "\n",
        "class_names = train_ds.classes\n",
        "print(\"Classes:\", class_names)\n"
      ]
    },
    {
      "cell_type": "code",
      "execution_count": 8,
      "metadata": {
        "colab": {
          "base_uri": "https://localhost:8080/"
        },
        "id": "R6F4_fj5BO1a",
        "outputId": "dc55642b-1979-4818-a383-39b10136b7a1"
      },
      "outputs": [
        {
          "output_type": "stream",
          "name": "stdout",
          "text": [
            "Train class counts: [1341 3875]  -> pos_weight: 0.3460645079612732\n"
          ]
        }
      ],
      "source": [
        "# ============== Class Imbalance (Weights) ==============\n",
        "targets = np.array(train_ds.targets)  # list of 0/1 labels\n",
        "class_counts = np.bincount(targets)\n",
        "# pos_weight for BCEWithLogitsLoss is (#neg / #pos)\n",
        "pos_weight = torch.tensor(class_counts[0] / max(1, class_counts[1]), dtype=torch.float32, device=DEVICE)\n",
        "print(\"Train class counts:\", class_counts, \" -> pos_weight:\", float(pos_weight))"
      ]
    },
    {
      "cell_type": "code",
      "execution_count": 9,
      "metadata": {
        "id": "_pIXA5VdBTj7",
        "colab": {
          "base_uri": "https://localhost:8080/"
        },
        "outputId": "99e929ef-3f27-447c-9fdd-f10bfc8ea9ad"
      },
      "outputs": [
        {
          "output_type": "stream",
          "name": "stdout",
          "text": [
            "Downloading: \"https://download.pytorch.org/models/densenet121-a639ec97.pth\" to /root/.cache/torch/hub/checkpoints/densenet121-a639ec97.pth\n"
          ]
        },
        {
          "output_type": "stream",
          "name": "stderr",
          "text": [
            "100%|██████████| 30.8M/30.8M [00:00<00:00, 59.2MB/s]\n"
          ]
        }
      ],
      "source": [
        "# ============== DenseNet121 ==============\n",
        "model = models.densenet121(weights=models.DenseNet121_Weights.DEFAULT)\n",
        "in_feats = model.classifier.in_features\n",
        "model.classifier = nn.Linear(in_feats, 1)  # single logit for binary\n",
        "model = model.to(DEVICE)\n"
      ]
    },
    {
      "cell_type": "code",
      "execution_count": 10,
      "metadata": {
        "id": "UQcUF3MSBV5h"
      },
      "outputs": [],
      "source": [
        "# (Optional) Fine-tuning strategy: unfreeze last dense block + norm5\n",
        "for p in model.parameters():\n",
        "    p.requires_grad = False\n",
        "for name, p in model.features.named_parameters():\n",
        "    if \"denseblock4\" in name or \"norm5\" in name:\n",
        "        p.requires_grad = True\n",
        "# Always train classifier\n",
        "for p in model.classifier.parameters():\n",
        "    p.requires_grad = True"
      ]
    },
    {
      "cell_type": "code",
      "execution_count": 11,
      "metadata": {
        "id": "u-mjd6iWBW6S"
      },
      "outputs": [],
      "source": [
        "# ============== Loss, Optim, Scheduler ==============\n",
        "criterion = nn.BCEWithLogitsLoss(pos_weight=pos_weight)  # handles imbalance\n",
        "optimizer = optim.AdamW(filter(lambda p: p.requires_grad, model.parameters()), lr=LR, weight_decay=1e-4)\n",
        "scheduler = optim.lr_scheduler.ReduceLROnPlateau(optimizer, mode='min', patience=2, factor=0.3)\n",
        "scaler = torch.cuda.amp.GradScaler(enabled=torch.cuda.is_available())"
      ]
    },
    {
      "cell_type": "code",
      "execution_count": 12,
      "metadata": {
        "colab": {
          "base_uri": "https://localhost:8080/"
        },
        "id": "Nt7SZnMhBZrK",
        "outputId": "fe66463f-40ae-483e-aa1f-e9e48b520389"
      },
      "outputs": [
        {
          "output_type": "stream",
          "name": "stdout",
          "text": [
            "[01/20] Train loss 0.1086 acc 0.909 | Val loss 0.4527 acc 0.750 (P 0.667 R 1.000 F1 0.800 AUC 1.000)\n",
            "[02/20] Train loss 0.0590 acc 0.958 | Val loss 0.4489 acc 0.750 (P 0.667 R 1.000 F1 0.800 AUC 1.000)\n",
            "[03/20] Train loss 0.0523 acc 0.962 | Val loss 0.8806 acc 0.625 (P 0.571 R 1.000 F1 0.727 AUC 0.984)\n",
            "[04/20] Train loss 0.0410 acc 0.971 | Val loss 0.7283 acc 0.688 (P 0.615 R 1.000 F1 0.762 AUC 1.000)\n",
            "[05/20] Train loss 0.0383 acc 0.974 | Val loss 0.8911 acc 0.688 (P 0.615 R 1.000 F1 0.762 AUC 0.984)\n",
            "[06/20] Train loss 0.0362 acc 0.973 | Val loss 0.8872 acc 0.688 (P 0.615 R 1.000 F1 0.762 AUC 1.000)\n",
            "[07/20] Train loss 0.0298 acc 0.980 | Val loss 0.8454 acc 0.688 (P 0.615 R 1.000 F1 0.762 AUC 1.000)\n",
            "Early stopping at epoch 7. Best val loss: 0.4489\n",
            "Training complete in 138.4 min. Best val loss: 0.4489\n"
          ]
        }
      ],
      "source": [
        "# ============== Train/Val Loop ==============\n",
        "def run_epoch(loader, train_mode=True):\n",
        "    model.train(mode=train_mode)\n",
        "    total_loss = 0.0\n",
        "    y_true, y_prob = [], []\n",
        "    if train_mode:\n",
        "        optimizer.zero_grad(set_to_none=True)\n",
        "\n",
        "    for images, labels in loader:\n",
        "        images = images.to(DEVICE, non_blocking=True)\n",
        "        labels = labels.float().unsqueeze(1).to(DEVICE, non_blocking=True)\n",
        "\n",
        "        with torch.set_grad_enabled(train_mode):\n",
        "            with torch.cuda.amp.autocast(enabled=torch.cuda.is_available()):\n",
        "                logits = model(images)\n",
        "                loss = criterion(logits, labels)\n",
        "\n",
        "            if train_mode:\n",
        "                scaler.scale(loss).backward()\n",
        "                scaler.step(optimizer)\n",
        "                scaler.update()\n",
        "                optimizer.zero_grad(set_to_none=True)\n",
        "\n",
        "        total_loss += loss.item() * images.size(0)\n",
        "        probs = torch.sigmoid(logits).detach().cpu().numpy().ravel()\n",
        "        y_prob.extend(probs.tolist())\n",
        "        y_true.extend(labels.detach().cpu().numpy().ravel().tolist())\n",
        "\n",
        "    avg_loss = total_loss / len(loader.dataset)\n",
        "    y_prob = np.array(y_prob)\n",
        "    y_true = np.array(y_true)\n",
        "    y_pred = (y_prob >= 0.5).astype(int)\n",
        "\n",
        "    acc  = accuracy_score(y_true, y_pred)\n",
        "    prec = precision_score(y_true, y_pred, zero_division=0)\n",
        "    rec  = recall_score(y_true, y_pred, zero_division=0)\n",
        "    f1   = f1_score(y_true, y_pred, zero_division=0)\n",
        "    try:\n",
        "        auc  = roc_auc_score(y_true, y_prob)\n",
        "    except ValueError:\n",
        "        auc = float('nan')\n",
        "\n",
        "    return avg_loss, acc, prec, rec, f1, auc, y_true, y_prob, y_pred\n",
        "\n",
        "def fit(epochs=EPOCHS, patience=PATIENCE, ckpt_path=CHECKPOINT_PATH):\n",
        "    best_w = copy.deepcopy(model.state_dict())\n",
        "    best_val = math.inf\n",
        "    wait = 0\n",
        "\n",
        "    history = {'train_loss':[], 'val_loss':[], 'train_acc':[], 'val_acc':[]}\n",
        "\n",
        "    start = time.time()\n",
        "    for ep in range(1, epochs+1):\n",
        "        tl, ta, _, _, _, _, _, _, _ = run_epoch(train_loader, train_mode=True)\n",
        "        vl, va, vp, vrc, vf1, vauc, _, _, _ = run_epoch(val_loader,   train_mode=False)\n",
        "        scheduler.step(vl)\n",
        "\n",
        "        history['train_loss'].append(tl); history['val_loss'].append(vl)\n",
        "        history['train_acc'].append(ta);  history['val_acc'].append(va)\n",
        "\n",
        "        print(f\"[{ep:02d}/{epochs}] Train loss {tl:.4f} acc {ta:.3f} | \"\n",
        "              f\"Val loss {vl:.4f} acc {va:.3f} (P {vp:.3f} R {vrc:.3f} F1 {vf1:.3f} AUC {vauc:.3f})\")\n",
        "\n",
        "        if vl < best_val:\n",
        "            best_val = vl; wait = 0\n",
        "            best_w = copy.deepcopy(model.state_dict())\n",
        "            torch.save({'model':'densenet121','state_dict':best_w}, ckpt_path)\n",
        "        else:\n",
        "            wait += 1\n",
        "            if wait >= patience:\n",
        "                print(f\"Early stopping at epoch {ep}. Best val loss: {best_val:.4f}\")\n",
        "                break\n",
        "\n",
        "    total_time = time.time() - start\n",
        "    print(f\"Training complete in {total_time/60:.1f} min. Best val loss: {best_val:.4f}\")\n",
        "    model.load_state_dict(best_w)\n",
        "    return history\n",
        "\n",
        "history = fit()\n"
      ]
    },
    {
      "cell_type": "code",
      "execution_count": 13,
      "metadata": {
        "id": "EvjSNuIgBeIx",
        "colab": {
          "base_uri": "https://localhost:8080/"
        },
        "outputId": "bb82093c-cc04-43c4-e579-b50226934227"
      },
      "outputs": [
        {
          "output_type": "stream",
          "name": "stdout",
          "text": [
            "[01/20] Train loss 0.0482 acc 0.965 | Val loss 0.6471 acc 0.625 (P 0.571 R 1.000 F1 0.727 AUC 0.984)\n",
            "[02/20] Train loss 0.0424 acc 0.967 | Val loss 0.7322 acc 0.625 (P 0.571 R 1.000 F1 0.727 AUC 0.969)\n",
            "[03/20] Train loss 0.0463 acc 0.966 | Val loss 0.7171 acc 0.625 (P 0.571 R 1.000 F1 0.727 AUC 0.984)\n",
            "[04/20] Train loss 0.0449 acc 0.967 | Val loss 0.6854 acc 0.688 (P 0.615 R 1.000 F1 0.762 AUC 0.984)\n",
            "[05/20] Train loss 0.0429 acc 0.972 | Val loss 0.6818 acc 0.688 (P 0.615 R 1.000 F1 0.762 AUC 0.984)\n",
            "[06/20] Train loss 0.0428 acc 0.971 | Val loss 0.6752 acc 0.688 (P 0.615 R 1.000 F1 0.762 AUC 0.984)\n",
            "Early stopping at epoch 6. Best val loss: 0.6471\n",
            "Training complete in 108.8 min. Best val loss: 0.6471\n"
          ]
        }
      ],
      "source": [
        "# ============== Train/Val Loop ==============\n",
        "def run_epoch(loader, train_mode=True):\n",
        "    model.train(mode=train_mode)\n",
        "    total_loss = 0.0\n",
        "    y_true, y_prob = [], []\n",
        "    if train_mode:\n",
        "        optimizer.zero_grad(set_to_none=True)\n",
        "\n",
        "    for images, labels in loader:\n",
        "        images = images.to(DEVICE, non_blocking=True)\n",
        "        labels = labels.float().unsqueeze(1).to(DEVICE, non_blocking=True)\n",
        "\n",
        "        with torch.set_grad_enabled(train_mode):\n",
        "            with torch.cuda.amp.autocast(enabled=torch.cuda.is_available()):\n",
        "                logits = model(images)\n",
        "                loss = criterion(logits, labels)\n",
        "\n",
        "            if train_mode:\n",
        "                scaler.scale(loss).backward()\n",
        "                scaler.step(optimizer)\n",
        "                scaler.update()\n",
        "                optimizer.zero_grad(set_to_none=True)\n",
        "\n",
        "        total_loss += loss.item() * images.size(0)\n",
        "        probs = torch.sigmoid(logits).detach().cpu().numpy().ravel()\n",
        "        y_prob.extend(probs.tolist())\n",
        "        y_true.extend(labels.detach().cpu().numpy().ravel().tolist())\n",
        "\n",
        "    avg_loss = total_loss / len(loader.dataset)\n",
        "    y_prob = np.array(y_prob)\n",
        "    y_true = np.array(y_true)\n",
        "    y_pred = (y_prob >= 0.5).astype(int)\n",
        "\n",
        "    acc  = accuracy_score(y_true, y_pred)\n",
        "    prec = precision_score(y_true, y_pred, zero_division=0)\n",
        "    rec  = recall_score(y_true, y_pred, zero_division=0)\n",
        "    f1   = f1_score(y_true, y_pred, zero_division=0)\n",
        "    try:\n",
        "        auc  = roc_auc_score(y_true, y_prob)\n",
        "    except ValueError:\n",
        "        auc = float('nan')\n",
        "\n",
        "    return avg_loss, acc, prec, rec, f1, auc, y_true, y_prob, y_pred\n",
        "\n",
        "def fit(epochs=EPOCHS, patience=PATIENCE, ckpt_path=CHECKPOINT_PATH):\n",
        "    best_w = copy.deepcopy(model.state_dict())\n",
        "    best_val = math.inf\n",
        "    wait = 0\n",
        "\n",
        "    history = {'train_loss':[], 'val_loss':[], 'train_acc':[], 'val_acc':[]}\n",
        "\n",
        "    start = time.time()\n",
        "    for ep in range(1, epochs+1):\n",
        "        tl, ta, _, _, _, _, _, _, _ = run_epoch(train_loader, train_mode=True)\n",
        "        vl, va, vp, vrc, vf1, vauc, _, _, _ = run_epoch(val_loader,   train_mode=False)\n",
        "        scheduler.step(vl)\n",
        "\n",
        "        history['train_loss'].append(tl); history['val_loss'].append(vl)\n",
        "        history['train_acc'].append(ta);  history['val_acc'].append(va)\n",
        "\n",
        "        print(f\"[{ep:02d}/{epochs}] Train loss {tl:.4f} acc {ta:.3f} | \"\n",
        "              f\"Val loss {vl:.4f} acc {va:.3f} (P {vp:.3f} R {vrc:.3f} F1 {vf1:.3f} AUC {vauc:.3f})\")\n",
        "\n",
        "        if vl < best_val:\n",
        "            best_val = vl; wait = 0\n",
        "            best_w = copy.deepcopy(model.state_dict())\n",
        "            torch.save({'model':'densenet121','state_dict':best_w}, ckpt_path)\n",
        "        else:\n",
        "            wait += 1\n",
        "            if wait >= patience:\n",
        "                print(f\"Early stopping at epoch {ep}. Best val loss: {best_val:.4f}\")\n",
        "                break\n",
        "\n",
        "    total_time = time.time() - start\n",
        "    print(f\"Training complete in {total_time/60:.1f} min. Best val loss: {best_val:.4f}\")\n",
        "    model.load_state_dict(best_w)\n",
        "    return history\n",
        "\n",
        "history = fit()\n"
      ]
    },
    {
      "cell_type": "code",
      "execution_count": 14,
      "metadata": {
        "id": "aP-zEBdWBhrj",
        "colab": {
          "base_uri": "https://localhost:8080/",
          "height": 1000
        },
        "outputId": "d0429108-52f6-47e7-d11b-62e4af1a1f24"
      },
      "outputs": [
        {
          "output_type": "stream",
          "name": "stdout",
          "text": [
            "\n",
            "=== Test Metrics (DenseNet121) ===\n",
            "Loss: 0.5873\n",
            "Accuracy:  0.8045\n",
            "Precision: 0.7638\n",
            "Recall:    0.9949\n",
            "F1-Score:  0.8641\n",
            "ROC-AUC:   0.9327\n",
            "\n",
            "Confusion Matrix:\n",
            " [[114 120]\n",
            " [  2 388]]\n"
          ]
        },
        {
          "output_type": "display_data",
          "data": {
            "text/plain": [
              "<Figure size 400x400 with 2 Axes>"
            ],
            "image/png": "[encoded data removed]"
          },
          "metadata": {}
        },
        {
          "output_type": "display_data",
          "data": {
            "text/plain": [
              "<Figure size 500x400 with 1 Axes>"
            ],
            "image/png": "[encoded data removed]"
          },
          "metadata": {}
        },
        {
          "output_type": "stream",
          "name": "stdout",
          "text": [
            "\n",
            "Summary: {'test_loss': 0.587315618332165, 'accuracy': 0.8044871794871795, 'precision': 0.7637795275590551, 'recall': 0.9948717948717949, 'f1': 0.8641425389755011, 'auc': np.float64(0.9327087442472057)}\n"
          ]
        }
      ],
      "source": [
        "# ============== Test Evaluation ==============\n",
        "def evaluate_test():\n",
        "    tl, acc, prec, rec, f1, auc, y_true, y_prob, y_pred = run_epoch(test_loader, train_mode=False)\n",
        "\n",
        "    print(\"\\n=== Test Metrics (DenseNet121) ===\")\n",
        "    print(f\"Loss: {tl:.4f}\")\n",
        "    print(f\"Accuracy:  {acc:.4f}\")\n",
        "    print(f\"Precision: {prec:.4f}\")\n",
        "    print(f\"Recall:    {rec:.4f}\")\n",
        "    print(f\"F1-Score:  {f1:.4f}\")\n",
        "    print(f\"ROC-AUC:   {auc:.4f}\")\n",
        "\n",
        "    # Confusion Matrix\n",
        "    cm = confusion_matrix(y_true, y_pred)\n",
        "    print(\"\\nConfusion Matrix:\\n\", cm)\n",
        "\n",
        "    # Plot Confusion Matrix\n",
        "    plt.figure(figsize=(4,4))\n",
        "    plt.imshow(cm, interpolation='nearest')\n",
        "    plt.title('Confusion Matrix'); plt.colorbar()\n",
        "    tick_marks = np.arange(2)\n",
        "    plt.xticks(tick_marks, class_names, rotation=45)\n",
        "    plt.yticks(tick_marks, class_names)\n",
        "    thresh = cm.max() / 2.\n",
        "    for i in range(cm.shape[0]):\n",
        "        for j in range(cm.shape[1]):\n",
        "            plt.text(j, i, format(cm[i, j], 'd'),\n",
        "                     ha=\"center\", va=\"center\",\n",
        "                     color=\"white\" if cm[i, j] > thresh else \"black\")\n",
        "    plt.ylabel('True label'); plt.xlabel('Predicted label')\n",
        "    plt.tight_layout(); plt.show()\n",
        "\n",
        "    # ROC Curve\n",
        "    fpr, tpr, _ = roc_curve(y_true, y_prob)\n",
        "    plt.figure(figsize=(5,4))\n",
        "    plt.plot(fpr, tpr, lw=2)\n",
        "    plt.plot([0,1],[0,1],'--')\n",
        "    plt.xlabel('False Positive Rate'); plt.ylabel('True Positive Rate')\n",
        "    plt.title(f'ROC Curve (AUC={auc:.3f})')\n",
        "    plt.grid(True, ls='--', alpha=0.5)\n",
        "    plt.show()\n",
        "\n",
        "    return {\n",
        "        'test_loss': tl, 'accuracy': acc, 'precision': prec,\n",
        "        'recall': rec, 'f1': f1, 'auc': auc\n",
        "    }\n",
        "\n",
        "# Load best weights (safety) and evaluate\n",
        "ckpt = torch.load(CHECKPOINT_PATH, map_location=DEVICE)\n",
        "model.load_state_dict(ckpt['state_dict'])\n",
        "test_results = evaluate_test()\n",
        "print(\"\\nSummary:\", test_results)"
      ]
    }
  ],
  "metadata": {
    "colab": {
      "provenance": [],
      "mount_file_id": "1vr_3pz0zu_FQJyQl6PsDn7xjyxETQPUH",
      "authorship_tag": "ABX9TyPAMwVZCamTodAh9Pkj/lWe",
      "include_colab_link": true
    },
    "kernelspec": {
      "display_name": "Python 3",
      "name": "python3"
    },
    "language_info": {
      "name": "python"
    }
  },
  "nbformat": 4,
  "nbformat_minor": 0
}